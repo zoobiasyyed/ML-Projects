{
  "nbformat": 4,
  "nbformat_minor": 0,
  "metadata": {
    "colab": {
      "provenance": [],
      "include_colab_link": true
    },
    "kernelspec": {
      "name": "python3",
      "display_name": "Python 3"
    },
    "language_info": {
      "name": "python"
    }
  },
  "cells": [
    {
      "cell_type": "markdown",
      "metadata": {
        "id": "view-in-github",
        "colab_type": "text"
      },
      "source": [
        "<a href=\"https://colab.research.google.com/github/zoobiasyyed/ML-Projects/blob/main/genaiscript.ipynb\" target=\"_parent\"><img src=\"https://colab.research.google.com/assets/colab-badge.svg\" alt=\"Open In Colab\"/></a>"
      ]
    },
    {
      "cell_type": "code",
      "execution_count": null,
      "metadata": {
        "id": "DUoiOnYGETYd"
      },
      "outputs": [],
      "source": [
        "import pandas as pd\n",
        "import numpy as np\n",
        "from sklearn.model_selection import train_test_split\n",
        "from sklearn.preprocessing import LabelEncoder\n",
        "from sklearn.metrics import accuracy_score, classification_report\n",
        "from tensorflow.keras.preprocessing.text import Tokenizer\n",
        "from tensorflow.keras.preprocessing.sequence import pad_sequences\n",
        "from tensorflow.keras.models import Sequential, Model\n",
        "from tensorflow.keras.layers import Embedding, LSTM, Conv1D, MaxPooling1D, Dropout, Dense, Bidirectional, Input, concatenate, Flatten\n",
        "from tensorflow.keras.utils import to_categorical\n",
        "from tensorflow.keras.callbacks import EarlyStopping"
      ]
    },
    {
      "cell_type": "markdown",
      "source": [
        "The code is complete but because of the size of the [data set](https://www.kaggle.com/datasets/torloweidadata/movies-and-movie-scripts) it needs to be trained on the server. num_rows_to_read cuts off the amount of data to only 100 rows so that my runtime wouldn't crash. Once running on the server this will be taken off and all of the rows will be used."
      ],
      "metadata": {
        "id": "haVp-r8qziga"
      }
    },
    {
      "cell_type": "code",
      "source": [
        "file_path = 'moviedataset.csv'\n",
        "df = pd.read_csv('moviedataset.csv')\n",
        "columns_to_keep = ['genres', 'Scripts']\n",
        "df = df[columns_to_keep]\n",
        "df.shape"
      ],
      "metadata": {
        "colab": {
          "base_uri": "https://localhost:8080/"
        },
        "id": "8bZOY7fiFWiL",
        "outputId": "d19007c6-cb1c-4870-cf57-e709598e90c8"
      },
      "execution_count": null,
      "outputs": [
        {
          "output_type": "execute_result",
          "data": {
            "text/plain": [
              "(3923, 2)"
            ]
          },
          "metadata": {},
          "execution_count": 2
        }
      ]
    },
    {
      "cell_type": "code",
      "source": [
        "df = df.explode('genres')\n",
        "df['genres'] = df['genres'].str.split(',').str[0].str.strip()\n",
        "df = df.drop_duplicates()\n",
        "df = df.reset_index(drop=True)\n",
        "\n",
        "df['Scripts'] = df['Scripts'].astype(str)\n",
        "\n",
        "df['Scripts'].fillna('', inplace=True)"
      ],
      "metadata": {
        "id": "4hY7POqxHg9Q"
      },
      "execution_count": null,
      "outputs": []
    },
    {
      "cell_type": "code",
      "source": [
        "df.head()"
      ],
      "metadata": {
        "colab": {
          "base_uri": "https://localhost:8080/",
          "height": 260
        },
        "id": "rFGEv_BrIM38",
        "outputId": "494a85c3-4593-4966-b404-b6bd8756e112"
      },
      "execution_count": null,
      "outputs": [
        {
          "output_type": "execute_result",
          "data": {
            "text/plain": [
              "      genres                                            Scripts\n",
              "0      Drama  Dearest, I feel certain that I am going mad ag...\n",
              "1  Adventure  Al That was when the icecaps had melted becaus...\n",
              "2      Drama  - MICHAEL: Hi, sis. - CAROLYN: Hey. - CAROLYN:...\n",
              "3     Comedy  Good luck. Hi. Uh, I have an appointment with ...\n",
              "4      Drama  THE HOUSE OF THE SPIRITS. It’s good to be back..."
            ],
            "text/html": [
              "\n",
              "  <div id=\"df-d83996ab-d29b-4c5a-bfcc-6ac12d4e4b3a\" class=\"colab-df-container\">\n",
              "    <div>\n",
              "<style scoped>\n",
              "    .dataframe tbody tr th:only-of-type {\n",
              "        vertical-align: middle;\n",
              "    }\n",
              "\n",
              "    .dataframe tbody tr th {\n",
              "        vertical-align: top;\n",
              "    }\n",
              "\n",
              "    .dataframe thead th {\n",
              "        text-align: right;\n",
              "    }\n",
              "</style>\n",
              "<table border=\"1\" class=\"dataframe\">\n",
              "  <thead>\n",
              "    <tr style=\"text-align: right;\">\n",
              "      <th></th>\n",
              "      <th>genres</th>\n",
              "      <th>Scripts</th>\n",
              "    </tr>\n",
              "  </thead>\n",
              "  <tbody>\n",
              "    <tr>\n",
              "      <th>0</th>\n",
              "      <td>Drama</td>\n",
              "      <td>Dearest, I feel certain that I am going mad ag...</td>\n",
              "    </tr>\n",
              "    <tr>\n",
              "      <th>1</th>\n",
              "      <td>Adventure</td>\n",
              "      <td>Al That was when the icecaps had melted becaus...</td>\n",
              "    </tr>\n",
              "    <tr>\n",
              "      <th>2</th>\n",
              "      <td>Drama</td>\n",
              "      <td>- MICHAEL: Hi, sis. - CAROLYN: Hey. - CAROLYN:...</td>\n",
              "    </tr>\n",
              "    <tr>\n",
              "      <th>3</th>\n",
              "      <td>Comedy</td>\n",
              "      <td>Good luck. Hi. Uh, I have an appointment with ...</td>\n",
              "    </tr>\n",
              "    <tr>\n",
              "      <th>4</th>\n",
              "      <td>Drama</td>\n",
              "      <td>THE HOUSE OF THE SPIRITS. It’s good to be back...</td>\n",
              "    </tr>\n",
              "  </tbody>\n",
              "</table>\n",
              "</div>\n",
              "    <div class=\"colab-df-buttons\">\n",
              "\n",
              "  <div class=\"colab-df-container\">\n",
              "    <button class=\"colab-df-convert\" onclick=\"convertToInteractive('df-d83996ab-d29b-4c5a-bfcc-6ac12d4e4b3a')\"\n",
              "            title=\"Convert this dataframe to an interactive table.\"\n",
              "            style=\"display:none;\">\n",
              "\n",
              "  <svg xmlns=\"http://www.w3.org/2000/svg\" height=\"24px\" viewBox=\"0 -960 960 960\">\n",
              "    <path d=\"M120-120v-720h720v720H120Zm60-500h600v-160H180v160Zm220 220h160v-160H400v160Zm0 220h160v-160H400v160ZM180-400h160v-160H180v160Zm440 0h160v-160H620v160ZM180-180h160v-160H180v160Zm440 0h160v-160H620v160Z\"/>\n",
              "  </svg>\n",
              "    </button>\n",
              "\n",
              "  <style>\n",
              "    .colab-df-container {\n",
              "      display:flex;\n",
              "      gap: 12px;\n",
              "    }\n",
              "\n",
              "    .colab-df-convert {\n",
              "      background-color: #E8F0FE;\n",
              "      border: none;\n",
              "      border-radius: 50%;\n",
              "      cursor: pointer;\n",
              "      display: none;\n",
              "      fill: #1967D2;\n",
              "      height: 32px;\n",
              "      padding: 0 0 0 0;\n",
              "      width: 32px;\n",
              "    }\n",
              "\n",
              "    .colab-df-convert:hover {\n",
              "      background-color: #E2EBFA;\n",
              "      box-shadow: 0px 1px 2px rgba(60, 64, 67, 0.3), 0px 1px 3px 1px rgba(60, 64, 67, 0.15);\n",
              "      fill: #174EA6;\n",
              "    }\n",
              "\n",
              "    .colab-df-buttons div {\n",
              "      margin-bottom: 4px;\n",
              "    }\n",
              "\n",
              "    [theme=dark] .colab-df-convert {\n",
              "      background-color: #3B4455;\n",
              "      fill: #D2E3FC;\n",
              "    }\n",
              "\n",
              "    [theme=dark] .colab-df-convert:hover {\n",
              "      background-color: #434B5C;\n",
              "      box-shadow: 0px 1px 3px 1px rgba(0, 0, 0, 0.15);\n",
              "      filter: drop-shadow(0px 1px 2px rgba(0, 0, 0, 0.3));\n",
              "      fill: #FFFFFF;\n",
              "    }\n",
              "  </style>\n",
              "\n",
              "    <script>\n",
              "      const buttonEl =\n",
              "        document.querySelector('#df-d83996ab-d29b-4c5a-bfcc-6ac12d4e4b3a button.colab-df-convert');\n",
              "      buttonEl.style.display =\n",
              "        google.colab.kernel.accessAllowed ? 'block' : 'none';\n",
              "\n",
              "      async function convertToInteractive(key) {\n",
              "        const element = document.querySelector('#df-d83996ab-d29b-4c5a-bfcc-6ac12d4e4b3a');\n",
              "        const dataTable =\n",
              "          await google.colab.kernel.invokeFunction('convertToInteractive',\n",
              "                                                    [key], {});\n",
              "        if (!dataTable) return;\n",
              "\n",
              "        const docLinkHtml = 'Like what you see? Visit the ' +\n",
              "          '<a target=\"_blank\" href=https://colab.research.google.com/notebooks/data_table.ipynb>data table notebook</a>'\n",
              "          + ' to learn more about interactive tables.';\n",
              "        element.innerHTML = '';\n",
              "        dataTable['output_type'] = 'display_data';\n",
              "        await google.colab.output.renderOutput(dataTable, element);\n",
              "        const docLink = document.createElement('div');\n",
              "        docLink.innerHTML = docLinkHtml;\n",
              "        element.appendChild(docLink);\n",
              "      }\n",
              "    </script>\n",
              "  </div>\n",
              "\n",
              "\n",
              "<div id=\"df-e1bd44e1-742f-42ad-abf9-e1636ea4bc4c\">\n",
              "  <button class=\"colab-df-quickchart\" onclick=\"quickchart('df-e1bd44e1-742f-42ad-abf9-e1636ea4bc4c')\"\n",
              "            title=\"Suggest charts\"\n",
              "            style=\"display:none;\">\n",
              "\n",
              "<svg xmlns=\"http://www.w3.org/2000/svg\" height=\"24px\"viewBox=\"0 0 24 24\"\n",
              "     width=\"24px\">\n",
              "    <g>\n",
              "        <path d=\"M19 3H5c-1.1 0-2 .9-2 2v14c0 1.1.9 2 2 2h14c1.1 0 2-.9 2-2V5c0-1.1-.9-2-2-2zM9 17H7v-7h2v7zm4 0h-2V7h2v10zm4 0h-2v-4h2v4z\"/>\n",
              "    </g>\n",
              "</svg>\n",
              "  </button>\n",
              "\n",
              "<style>\n",
              "  .colab-df-quickchart {\n",
              "      --bg-color: #E8F0FE;\n",
              "      --fill-color: #1967D2;\n",
              "      --hover-bg-color: #E2EBFA;\n",
              "      --hover-fill-color: #174EA6;\n",
              "      --disabled-fill-color: #AAA;\n",
              "      --disabled-bg-color: #DDD;\n",
              "  }\n",
              "\n",
              "  [theme=dark] .colab-df-quickchart {\n",
              "      --bg-color: #3B4455;\n",
              "      --fill-color: #D2E3FC;\n",
              "      --hover-bg-color: #434B5C;\n",
              "      --hover-fill-color: #FFFFFF;\n",
              "      --disabled-bg-color: #3B4455;\n",
              "      --disabled-fill-color: #666;\n",
              "  }\n",
              "\n",
              "  .colab-df-quickchart {\n",
              "    background-color: var(--bg-color);\n",
              "    border: none;\n",
              "    border-radius: 50%;\n",
              "    cursor: pointer;\n",
              "    display: none;\n",
              "    fill: var(--fill-color);\n",
              "    height: 32px;\n",
              "    padding: 0;\n",
              "    width: 32px;\n",
              "  }\n",
              "\n",
              "  .colab-df-quickchart:hover {\n",
              "    background-color: var(--hover-bg-color);\n",
              "    box-shadow: 0 1px 2px rgba(60, 64, 67, 0.3), 0 1px 3px 1px rgba(60, 64, 67, 0.15);\n",
              "    fill: var(--button-hover-fill-color);\n",
              "  }\n",
              "\n",
              "  .colab-df-quickchart-complete:disabled,\n",
              "  .colab-df-quickchart-complete:disabled:hover {\n",
              "    background-color: var(--disabled-bg-color);\n",
              "    fill: var(--disabled-fill-color);\n",
              "    box-shadow: none;\n",
              "  }\n",
              "\n",
              "  .colab-df-spinner {\n",
              "    border: 2px solid var(--fill-color);\n",
              "    border-color: transparent;\n",
              "    border-bottom-color: var(--fill-color);\n",
              "    animation:\n",
              "      spin 1s steps(1) infinite;\n",
              "  }\n",
              "\n",
              "  @keyframes spin {\n",
              "    0% {\n",
              "      border-color: transparent;\n",
              "      border-bottom-color: var(--fill-color);\n",
              "      border-left-color: var(--fill-color);\n",
              "    }\n",
              "    20% {\n",
              "      border-color: transparent;\n",
              "      border-left-color: var(--fill-color);\n",
              "      border-top-color: var(--fill-color);\n",
              "    }\n",
              "    30% {\n",
              "      border-color: transparent;\n",
              "      border-left-color: var(--fill-color);\n",
              "      border-top-color: var(--fill-color);\n",
              "      border-right-color: var(--fill-color);\n",
              "    }\n",
              "    40% {\n",
              "      border-color: transparent;\n",
              "      border-right-color: var(--fill-color);\n",
              "      border-top-color: var(--fill-color);\n",
              "    }\n",
              "    60% {\n",
              "      border-color: transparent;\n",
              "      border-right-color: var(--fill-color);\n",
              "    }\n",
              "    80% {\n",
              "      border-color: transparent;\n",
              "      border-right-color: var(--fill-color);\n",
              "      border-bottom-color: var(--fill-color);\n",
              "    }\n",
              "    90% {\n",
              "      border-color: transparent;\n",
              "      border-bottom-color: var(--fill-color);\n",
              "    }\n",
              "  }\n",
              "</style>\n",
              "\n",
              "  <script>\n",
              "    async function quickchart(key) {\n",
              "      const quickchartButtonEl =\n",
              "        document.querySelector('#' + key + ' button');\n",
              "      quickchartButtonEl.disabled = true;  // To prevent multiple clicks.\n",
              "      quickchartButtonEl.classList.add('colab-df-spinner');\n",
              "      try {\n",
              "        const charts = await google.colab.kernel.invokeFunction(\n",
              "            'suggestCharts', [key], {});\n",
              "      } catch (error) {\n",
              "        console.error('Error during call to suggestCharts:', error);\n",
              "      }\n",
              "      quickchartButtonEl.classList.remove('colab-df-spinner');\n",
              "      quickchartButtonEl.classList.add('colab-df-quickchart-complete');\n",
              "    }\n",
              "    (() => {\n",
              "      let quickchartButtonEl =\n",
              "        document.querySelector('#df-e1bd44e1-742f-42ad-abf9-e1636ea4bc4c button');\n",
              "      quickchartButtonEl.style.display =\n",
              "        google.colab.kernel.accessAllowed ? 'block' : 'none';\n",
              "    })();\n",
              "  </script>\n",
              "</div>\n",
              "    </div>\n",
              "  </div>\n"
            ]
          },
          "metadata": {},
          "execution_count": 4
        }
      ]
    },
    {
      "cell_type": "code",
      "source": [
        "# Tokenization and text cleaning\n",
        "tokenizer = Tokenizer()\n",
        "tokenizer.fit_on_texts(df[\"Scripts\"])\n",
        "total_words = len(tokenizer.word_index) + 1"
      ],
      "metadata": {
        "id": "E5H-E2EXZ2vr"
      },
      "execution_count": null,
      "outputs": []
    },
    {
      "cell_type": "code",
      "source": [
        "# Convert text to sequences\n",
        "sequences = tokenizer.texts_to_sequences(df[\"Scripts\"])\n",
        "max_sequence_length = max(len(seq) for seq in sequences)\n",
        "padded_sequences = pad_sequences(sequences, maxlen=max_sequence_length, padding='post')"
      ],
      "metadata": {
        "id": "Gui_jyNDaB6Q"
      },
      "execution_count": null,
      "outputs": []
    },
    {
      "cell_type": "code",
      "source": [
        "# Encode genres\n",
        "label_encoder = LabelEncoder()\n",
        "encoded_genres = label_encoder.fit_transform(df[\"genres\"])"
      ],
      "metadata": {
        "id": "EanYNEHnaJf7"
      },
      "execution_count": null,
      "outputs": []
    },
    {
      "cell_type": "code",
      "source": [
        "# Split the data into training and testing sets\n",
        "X_train, X_test, y_train, y_test = train_test_split(padded_sequences, encoded_genres, test_size=0.2, random_state=48)"
      ],
      "metadata": {
        "id": "D6g7naQ1aQI6"
      },
      "execution_count": null,
      "outputs": []
    },
    {
      "cell_type": "markdown",
      "source": [
        "///// NEW"
      ],
      "metadata": {
        "id": "IAnBeffVn9gE"
      }
    },
    {
      "cell_type": "code",
      "source": [
        "from tensorflow.keras.models import Sequential\n",
        "from tensorflow.keras.layers import Embedding, LSTM, Conv1D, MaxPooling1D, Dropout, Dense\n",
        "\n",
        "# Total words in the vocabulary\n",
        "total_words = len(tokenizer.word_index) + 1\n",
        "\n",
        "# Number of unique genres\n",
        "num_classes = len(df['genres'].unique())\n",
        "\n",
        "# Assuming you have determined max_sequence_length\n",
        "max_sequence_length = max(len(seq) for seq in sequences)\n",
        "\n",
        "model = Sequential()\n",
        "model.add(Embedding(total_words, 150, input_length=max_sequence_length))\n",
        "model.add(Conv1D(64, 5, activation='relu'))  # 1D Convolutional layer\n",
        "model.add(MaxPooling1D(pool_size=4))\n",
        "model.add(LSTM(100, return_sequences=True))\n",
        "model.add(LSTM(100, return_sequences=True))\n",
        "model.add(LSTM(100))\n",
        "model.add(Dense(100, activation='relu'))\n",
        "model.add(Dropout(0.5))\n",
        "model.add(Dense(num_classes, activation='softmax'))\n",
        "\n",
        "model = Sequential()\n",
        "model.add(Embedding(total_words, 150, input_length = max_sequences_length))\n",
        "model.add(Conv1D(64, 5, activation = 'relu'))\n",
        "model.add(MaxPooling1D(pool_size = 4))\n",
        "model.add(LSTM(100, return_sequences = True))\n",
        "\n",
        "print(model.summary())\n",
        "\n",
        "model.compile(loss='sparse_categorical_crossentropy', optimizer='adam', metrics=['accuracy'])\n"
      ],
      "metadata": {
        "colab": {
          "base_uri": "https://localhost:8080/"
        },
        "id": "cBCLrOHooAIC",
        "outputId": "958636ad-fd39-47ec-bcfc-e27d4b44b9fe"
      },
      "execution_count": null,
      "outputs": [
        {
          "output_type": "stream",
          "name": "stdout",
          "text": [
            "Model: \"sequential\"\n",
            "_________________________________________________________________\n",
            " Layer (type)                Output Shape              Param #   \n",
            "=================================================================\n",
            " embedding (Embedding)       (None, 29684, 150)        21749700  \n",
            "                                                                 \n",
            " conv1d (Conv1D)             (None, 29680, 64)         48064     \n",
            "                                                                 \n",
            " max_pooling1d (MaxPooling1  (None, 7420, 64)          0         \n",
            " D)                                                              \n",
            "                                                                 \n",
            " lstm (LSTM)                 (None, 7420, 100)         66000     \n",
            "                                                                 \n",
            " lstm_1 (LSTM)               (None, 7420, 100)         80400     \n",
            "                                                                 \n",
            " lstm_2 (LSTM)               (None, 100)               80400     \n",
            "                                                                 \n",
            " dense (Dense)               (None, 100)               10100     \n",
            "                                                                 \n",
            " dropout (Dropout)           (None, 100)               0         \n",
            "                                                                 \n",
            " dense_1 (Dense)             (None, 17)                1717      \n",
            "                                                                 \n",
            "=================================================================\n",
            "Total params: 22036381 (84.06 MB)\n",
            "Trainable params: 22036381 (84.06 MB)\n",
            "Non-trainable params: 0 (0.00 Byte)\n",
            "_________________________________________________________________\n",
            "None\n"
          ]
        }
      ]
    },
    {
      "cell_type": "code",
      "source": [
        "history = model.fit(X_train, y_train, epochs=1, validation_data=(X_test, y_test), batch_size=128)"
      ],
      "metadata": {
        "id": "K-X4EyIMoblk"
      },
      "execution_count": null,
      "outputs": []
    },
    {
      "cell_type": "code",
      "source": [
        "import matplotlib.pyplot as plt\n",
        "\n",
        "plt.figure(figsize=(12, 4))\n",
        "plt.subplot(1, 2, 1)\n",
        "plt.plot(history.history['accuracy'], label='Training Accuracy')\n",
        "plt.plot(history.history['val_accuracy'], label='Validation Accuracy')\n",
        "plt.xlabel('Epoch')\n",
        "plt.ylabel('Accuracy')\n",
        "plt.legend()\n",
        "\n",
        "plt.subplot(1, 2, 2)\n",
        "plt.plot(history.history['loss'], label='Training Loss')\n",
        "plt.plot(history.history['val_loss'], label='Validation Loss')\n",
        "plt.xlabel('Epoch')\n",
        "plt.ylabel('Loss')\n",
        "plt.legend()\n",
        "\n",
        "plt.show()"
      ],
      "metadata": {
        "colab": {
          "base_uri": "https://localhost:8080/",
          "height": 388
        },
        "id": "S6b9S3t5CJU4",
        "outputId": "a33a4c25-ce25-4bf8-8669-876a3d7131d0"
      },
      "execution_count": null,
      "outputs": [
        {
          "output_type": "display_data",
          "data": {
            "text/plain": [
              "<Figure size 1200x400 with 2 Axes>"
            ],
            "image/png": "[encoded data removed]"
          },
          "metadata": {}
        }
      ]
    },
    {
      "cell_type": "markdown",
      "source": [
        "Example #1: Drama"
      ],
      "metadata": {
        "id": "E7EY2nqdCma5"
      }
    },
    {
      "cell_type": "code",
      "source": [
        "from tensorflow.keras.preprocessing.sequence import pad_sequences\n",
        "from tensorflow.keras.models import load_model\n",
        "import numpy as np\n",
        "\n",
        "# Load the text from the file\n",
        "with open('/content/panic-room.html', 'r', encoding='utf-8') as file:\n",
        "    movie_script = file.read()\n",
        "\n",
        "# Tokenize and pad the new script\n",
        "sequences = tokenizer.texts_to_sequences([movie_script])\n",
        "padded_sequence = pad_sequences(sequences, maxlen=max_sequence_length, padding='post')\n",
        "\n",
        "# Make predictions\n",
        "predictions = model.predict(padded_sequence)\n",
        "\n",
        "# Decode the predictions to genre labels\n",
        "predicted_genre_index = np.argmax(predictions)\n",
        "predicted_genre = label_encoder.classes_[predicted_genre_index]\n",
        "\n",
        "print(f'The predicted genre for drama movie (Panic Room) is: {predicted_genre}')\n"
      ],
      "metadata": {
        "colab": {
          "base_uri": "https://localhost:8080/"
        },
        "id": "AkI7OWAL5-yO",
        "outputId": "36db9cef-d630-4782-bc1d-13cb0d4d4fb8"
      },
      "execution_count": null,
      "outputs": [
        {
          "output_type": "stream",
          "name": "stdout",
          "text": [
            "1/1 [==============================] - 2s 2s/step\n",
            "The predicted genre for drama movie (Panic Room) is: Comedy\n"
          ]
        }
      ]
    },
    {
      "cell_type": "markdown",
      "source": [
        "Example #2: Comedy"
      ],
      "metadata": {
        "id": "VDymlfFZCpzD"
      }
    },
    {
      "cell_type": "code",
      "source": [
        "# Load the text from the file\n",
        "with open('/content/ELF.html', 'r', encoding='utf-8') as file:\n",
        "    movie_script = file.read()\n",
        "\n",
        "# Tokenize and pad the new script\n",
        "sequences = tokenizer.texts_to_sequences([movie_script])\n",
        "padded_sequence = pad_sequences(sequences, maxlen=max_sequence_length, padding='post')\n",
        "\n",
        "# Make predictions\n",
        "predictions = model.predict(padded_sequence)\n",
        "\n",
        "# Decode the predictions to genre labels\n",
        "predicted_genre_index = np.argmax(predictions)\n",
        "predicted_genre = label_encoder.classes_[predicted_genre_index]\n",
        "\n",
        "print(f'The predicted genre for comedy movie (Elf) is: {predicted_genre}')"
      ],
      "metadata": {
        "colab": {
          "base_uri": "https://localhost:8080/"
        },
        "id": "4eHFyD_1DFyt",
        "outputId": "4310fd8b-72dc-4388-c858-7d88aa8ea384"
      },
      "execution_count": null,
      "outputs": [
        {
          "output_type": "stream",
          "name": "stdout",
          "text": [
            "1/1 [==============================] - 2s 2s/step\n",
            "The predicted genre for comedy movie (Elf) is: Comedy\n"
          ]
        }
      ]
    },
    {
      "cell_type": "markdown",
      "source": [
        "Example #3: Scary Movie"
      ],
      "metadata": {
        "id": "Q1yESsq1Cv3H"
      }
    },
    {
      "cell_type": "code",
      "source": [
        "# Load the text from the file\n",
        "with open('/content/_PET SEMATARY_ by Stephen King.html', 'r', encoding='utf-8') as file:\n",
        "    movie_script = file.read()\n",
        "\n",
        "# Tokenize and pad the new script\n",
        "sequences = tokenizer.texts_to_sequences([movie_script])\n",
        "padded_sequence = pad_sequences(sequences, maxlen=max_sequence_length, padding='post')\n",
        "\n",
        "# Make predictions\n",
        "predictions = model.predict(padded_sequence)\n",
        "\n",
        "# Decode the predictions to genre labels\n",
        "predicted_genre_index = np.argmax(predictions)\n",
        "predicted_genre = label_encoder.classes_[predicted_genre_index]\n",
        "\n",
        "print(f'The predicted genre for scary movie (Pet Sematary) is: {predicted_genre}')"
      ],
      "metadata": {
        "colab": {
          "base_uri": "https://localhost:8080/"
        },
        "id": "ff1yYHJTDNLz",
        "outputId": "8ee9fca9-6df8-4047-af73-a3677c735796"
      },
      "execution_count": null,
      "outputs": [
        {
          "output_type": "stream",
          "name": "stdout",
          "text": [
            "1/1 [==============================] - 2s 2s/step\n",
            "The predicted genre for scary movie (Pet Sematary) is: Comedy\n"
          ]
        }
      ]
    },
    {
      "cell_type": "markdown",
      "source": [
        "Example #4: Parody Movie"
      ],
      "metadata": {
        "id": "2doorDIrC1MK"
      }
    },
    {
      "cell_type": "code",
      "source": [
        "# Load the text from the file\n",
        "with open('/content/_Scary Movie 2_.html', 'r', encoding='utf-8') as file:\n",
        "    movie_script = file.read()\n",
        "\n",
        "# Tokenize and pad the new script\n",
        "sequences = tokenizer.texts_to_sequences([movie_script])\n",
        "padded_sequence = pad_sequences(sequences, maxlen=max_sequence_length, padding='post')\n",
        "\n",
        "# Make predictions\n",
        "predictions = model.predict(padded_sequence)\n",
        "\n",
        "# Decode the predictions to genre labels\n",
        "predicted_genre_index = np.argmax(predictions)\n",
        "predicted_genre = label_encoder.classes_[predicted_genre_index]\n",
        "\n",
        "print(f'The predicted genre for parody movie (Scary Movie 2) is: {predicted_genre}')"
      ],
      "metadata": {
        "colab": {
          "base_uri": "https://localhost:8080/"
        },
        "id": "fm1w1JpVDPdq",
        "outputId": "6f2f63f1-fc96-486d-c20e-3e325c4285b4"
      },
      "execution_count": null,
      "outputs": [
        {
          "output_type": "stream",
          "name": "stdout",
          "text": [
            "1/1 [==============================] - 1s 1s/step\n",
            "The predicted genre for parody movie (Scary Movie 2) is: Comedy\n"
          ]
        }
      ]
    },
    {
      "cell_type": "markdown",
      "source": [
        "Example #6: Small section of script"
      ],
      "metadata": {
        "id": "DVZQST9LC8te"
      }
    },
    {
      "cell_type": "code",
      "source": [
        "# Load the text from the file\n",
        "with open('/content/Godfather, The.txt', 'r', encoding='utf-8') as file:\n",
        "    movie_script = file.read()\n",
        "\n",
        "# Tokenize and pad the new script\n",
        "sequences = tokenizer.texts_to_sequences([movie_script])\n",
        "padded_sequence = pad_sequences(sequences, maxlen=max_sequence_length, padding='post')\n",
        "\n",
        "# Make predictions\n",
        "predictions = model.predict(padded_sequence)\n",
        "\n",
        "# Decode the predictions to genre labels\n",
        "predicted_genre_index = np.argmax(predictions)\n",
        "predicted_genre = label_encoder.classes_[predicted_genre_index]\n",
        "\n",
        "print(f'The predicted genre for Ferris Buellers Day Off (but using only a scene where the characters are fighting) is: {predicted_genre}')"
      ],
      "metadata": {
        "colab": {
          "base_uri": "https://localhost:8080/"
        },
        "id": "UCEcaVIFDR3o",
        "outputId": "23b8cf59-28d6-43b7-fad5-e53615caf975"
      },
      "execution_count": null,
      "outputs": [
        {
          "output_type": "stream",
          "name": "stdout",
          "text": [
            "1/1 [==============================] - 1s 979ms/step\n",
            "The predicted genre for Ferris Buellers Day Off (but using only a scene where the characters are fighting) is: Comedy\n"
          ]
        }
      ]
    }
  ]
}